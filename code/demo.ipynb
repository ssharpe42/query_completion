{
 "cells": [
  {
   "cell_type": "code",
   "execution_count": 132,
   "metadata": {},
   "outputs": [],
   "source": [
    "from dynamic import DynamicModel\n",
    "from beam import GetCompletions, InitBeam\n",
    "import tensorflow as tf\n",
    "#from AMSGrad import AMSGrad"
   ]
  },
  {
   "cell_type": "code",
   "execution_count": 133,
   "metadata": {},
   "outputs": [],
   "source": [
    "from model import MetaModel"
   ]
  },
  {
   "cell_type": "code",
   "execution_count": 134,
   "metadata": {},
   "outputs": [],
   "source": [
    "# m = DynamicModel(\n",
    "#     '/Users/Sam/Desktop/School/Deep Learning/FinalProject/query_completion/g23b', \n",
    "#     learning_rate=1.0,\n",
    "#     optimizer=tf.train.GradientDescentOptimizer)"
   ]
  },
  {
   "cell_type": "code",
   "execution_count": 146,
   "metadata": {},
   "outputs": [
    {
     "name": "stdout",
     "output_type": "stream",
     "text": [
      "INFO:tensorflow:Restoring parameters from /Users/Sam/Desktop/School/Deep Learning/FinalProject/query_completion/referit_experiment/model.bin\n"
     ]
    },
    {
     "data": {
      "text/plain": [
       "array([[0., 0., 0., 0., 0., 0., 0., 0., 0., 0.],\n",
       "       [0., 0., 0., 0., 0., 0., 0., 0., 0., 0.],\n",
       "       [0., 0., 0., 0., 0., 0., 0., 0., 0., 0.]], dtype=float32)"
      ]
     },
     "execution_count": 146,
     "metadata": {},
     "output_type": "execute_result"
    }
   ],
   "source": [
    "m = DynamicModel(\n",
    "    '/Users/Sam/Desktop/School/Deep Learning/FinalProject/query_completion/referit_experiment', \n",
    "    learning_rate=1.0,\n",
    "    optimizer=tf.train.GradientDescentOptimizer)\n",
    "\n",
    "m.session.run(m.reset_user_embed)"
   ]
  },
  {
   "cell_type": "code",
   "execution_count": 60,
   "metadata": {},
   "outputs": [],
   "source": [
    "# m = MetaModel('/Users/Sam/Desktop/School/Deep Learning/FinalProject/query_completion/referit_experiment')\n",
    "# m.MakeSessionAndRestore(2)"
   ]
  },
  {
   "cell_type": "code",
   "execution_count": 164,
   "metadata": {},
   "outputs": [
    {
     "name": "stdout",
     "output_type": "stream",
     "text": [
      "Query: an air\n",
      "beam 6.821: <S>an air plane that is flying in the sky.</S>\n",
      "beam 6.466: <S>an airplane that is flying in the air.</S>\n",
      "beam 6.460: <S>an airplane that is flying through the sky\n",
      "beam 6.258: <S>an airplane that is flying in the sky</S>\n",
      "beam 4.924: <S>an airplane that is flying in the sky.</S>\n"
     ]
    }
   ],
   "source": [
    "prefix = 'an air'\n",
    "b = GetCompletions(['<S>'] + list(prefix), 0, m, branching_factor=4, beam_size=100)\n",
    "print('Query: {}'.format(prefix))\n",
    "for item in list(b)[-5:]:\n",
    "    print item"
   ]
  },
  {
   "cell_type": "code",
   "execution_count": 165,
   "metadata": {},
   "outputs": [
    {
     "name": "stdout",
     "output_type": "stream",
     "text": [
      "Query: a r\n",
      "beam 8.056: <S>a red and white train on a train track</S>\n",
      "beam 7.903: <S>a red and white bus on a city street</S>\n",
      "beam 7.843: <S>a red and white train traveling down tr\n",
      "beam 7.359: <S>a red train traveling down train tracks\n",
      "beam 7.296: <S>a red stop sign sitting on the side of \n"
     ]
    }
   ],
   "source": [
    "prefix = 'a r'\n",
    "b = GetCompletions(['<S>'] + list(prefix), 0, m, branching_factor=4, beam_size=100)\n",
    "print('Query: {}'.format(prefix))\n",
    "for item in list(b)[-5:]:\n",
    "    print item"
   ]
  },
  {
   "cell_type": "code",
   "execution_count": 166,
   "metadata": {},
   "outputs": [
    {
     "name": "stdout",
     "output_type": "stream",
     "text": [
      "Query: foo\n",
      "beam 7.787: <S>food that is on top of a table</S>\n",
      "beam 7.560: <S>food on a plate on a table.</S>\n",
      "beam 7.498: <S>food that is sitting on a plate.</S>\n",
      "beam 7.306: <S>food that is sitting on a table</S>\n",
      "beam 6.538: <S>food that is sitting on a table.</S>\n"
     ]
    }
   ],
   "source": [
    "prefix = 'foo'\n",
    "b = GetCompletions(['<S>'] + list(prefix), 0, m, branching_factor=4, beam_size=100)\n",
    "print('Query: {}'.format(prefix))\n",
    "for item in list(b)[-5:]:\n",
    "    print item"
   ]
  }
 ],
 "metadata": {
  "kernelspec": {
   "display_name": "Python 2",
   "language": "python",
   "name": "python2"
  },
  "language_info": {
   "codemirror_mode": {
    "name": "ipython",
    "version": 2
   },
   "file_extension": ".py",
   "mimetype": "text/x-python",
   "name": "python",
   "nbconvert_exporter": "python",
   "pygments_lexer": "ipython2",
   "version": "2.7.10"
  }
 },
 "nbformat": 4,
 "nbformat_minor": 2
}
