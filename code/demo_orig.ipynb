{
 "cells": [
  {
   "cell_type": "code",
   "execution_count": 1,
   "metadata": {},
   "outputs": [],
   "source": [
    "from dynamic import DynamicModel\n",
    "from beam import GetCompletions\n",
    "import tensorflow as tf\n",
    "from AMSGrad import AMSGrad"
   ]
  },
  {
   "cell_type": "code",
   "execution_count": 2,
   "metadata": {},
   "outputs": [
    {
     "name": "stdout",
     "output_type": "stream",
     "text": [
      "INFO:tensorflow:Restoring parameters from /s0/ajaech/aolexps/g25/model.bin\n"
     ]
    }
   ],
   "source": [
    "m = DynamicModel(\n",
    "    '/s0/ajaech/aolexps/g25', \n",
    "    learning_rate=1.0,\n",
    "    optimizer=AMSGrad)"
   ]
  },
  {
   "cell_type": "code",
   "execution_count": 3,
   "metadata": {
    "collapsed": true
   },
   "outputs": [],
   "source": [
    "m.session.run(m.reset_user_embed)"
   ]
  },
  {
   "cell_type": "code",
   "execution_count": 4,
   "metadata": {},
   "outputs": [
    {
     "name": "stdout",
     "output_type": "stream",
     "text": [
      "beam 5.419: <S>baby names</S>\n",
      "beam 5.417: <S>ballys</S>\n",
      "beam 5.372: <S>bankof america</S>\n",
      "beam 5.289: <S>barbie.com</S>\n",
      "beam 5.125: <S>barnes</S>\n",
      "beam 5.068: <S>barbie</S>\n",
      "beam 4.771: <S>barnes and noble</S>\n",
      "beam 4.276: <S>bankofamerica.com</S>\n",
      "beam 3.937: <S>bank of america</S>\n",
      "beam 3.861: <S>bankofamerica</S>\n"
     ]
    },
    {
     "data": {
      "text/plain": [
       "(2.1615884, 4.0)"
      ]
     },
     "execution_count": 4,
     "metadata": {},
     "output_type": "execute_result"
    }
   ],
   "source": [
    "prefix = 'ba'\n",
    "b = GetCompletions(['<S>'] + list(prefix), 0, m, branching_factor=4, beam_size=100)\n",
    "for item in list(b)[-10:]:\n",
    "    print item\n",
    "m.Train(['<S>'] + list('espn') + ['</S>'])\n",
    "m.Train(['<S>'] + list('sports news') + ['</S>'])\n",
    "m.Train(['<S>'] + list('nascar') + ['</S>'])\n",
    "m.Train(['<S>'] + list('yankees') + ['</S>'])\n",
    "m.Train(['<S>'] + list('nba') + ['</S>'])"
   ]
  },
  {
   "cell_type": "code",
   "execution_count": 5,
   "metadata": {},
   "outputs": [
    {
     "ename": "SyntaxError",
     "evalue": "invalid syntax (<ipython-input-5-50dcdf0dbf7d>, line 1)",
     "output_type": "error",
     "traceback": [
      "\u001b[0;36m  File \u001b[0;32m\"<ipython-input-5-50dcdf0dbf7d>\"\u001b[0;36m, line \u001b[0;32m1\u001b[0m\n\u001b[0;31m    beam 5.897: <S>bank america</S>\u001b[0m\n\u001b[0m             ^\u001b[0m\n\u001b[0;31mSyntaxError\u001b[0m\u001b[0;31m:\u001b[0m invalid syntax\n"
     ]
    }
   ],
   "source": [
    "beam 5.897: <S>bank america</S>\n",
    "beam 5.599: <S>bankof america</S>\n",
    "beam 5.585: <S>bankatlantic</S>\n",
    "beam 5.405: <S>bank one</S>\n",
    "beam 5.399: <S>bankamerica</S>\n",
    "beam 5.276: <S>bangbros</S>\n",
    "beam 4.304: <S>banks</S>\n",
    "beam 1.909: <S>bankone</S>\n",
    "beam 1.651: <S>bankofamerica</S>\n",
    "beam 1.563: <S>bank of america</S>"
   ]
  },
  {
   "cell_type": "code",
   "execution_count": 5,
   "metadata": {},
   "outputs": [
    {
     "name": "stdout",
     "output_type": "stream",
     "text": [
      "beam 6.295: <S>directions to nudel</S>\n",
      "beam 6.273: <S>directions to nurses</S>\n",
      "beam 6.091: <S>directions to nudes</S>\n",
      "beam 6.070: <S>directions to nudels</S>\n",
      "beam 5.976: <S>directions to estate</S>\n",
      "beam 5.962: <S>directions to nyunes</S>\n",
      "beam 5.703: <S>directions to online</S>\n",
      "beam 5.300: <S>directions to nyun</S>\n",
      "beam 4.537: <S>directions to espn</S>\n",
      "beam 4.349: <S>directions to nj</S>\n"
     ]
    },
    {
     "data": {
      "text/plain": [
       "(2.5313702, 6.0)"
      ]
     },
     "execution_count": 5,
     "metadata": {},
     "output_type": "execute_result"
    }
   ],
   "source": [
    "prefix = 'directions to '\n",
    "b = GetCompletions(['<S>'] + list(prefix), 0, m, branching_factor=4, beam_size=100)\n",
    "for item in list(b)[-10:]:\n",
    "    print item\n",
    "m.Train(['<S>'] + list('key west') + ['</S>'])\n",
    "m.Train(['<S>'] + list('tampa') + ['</S>'])\n",
    "m.Train(['<S>'] + list('orlando') + ['</S>'])\n",
    "m.Train(['<S>'] + list('miami') + ['</S>'])"
   ]
  },
  {
   "cell_type": "code",
   "execution_count": 6,
   "metadata": {
    "collapsed": true
   },
   "outputs": [],
   "source": [
    "import numpy as np\n",
    "import pandas\n",
    "from dataset import Dataset, LoadData\n",
    "from matplotlib import pyplot\n"
   ]
  },
  {
   "cell_type": "code",
   "execution_count": 7,
   "metadata": {},
   "outputs": [
    {
     "data": {
      "text/html": [
       "<div>\n",
       "<style>\n",
       "    .dataframe thead tr:only-child th {\n",
       "        text-align: right;\n",
       "    }\n",
       "\n",
       "    .dataframe thead th {\n",
       "        text-align: left;\n",
       "    }\n",
       "\n",
       "    .dataframe tbody tr th {\n",
       "        vertical-align: top;\n",
       "    }\n",
       "</style>\n",
       "<table border=\"1\" class=\"dataframe\">\n",
       "  <thead>\n",
       "    <tr style=\"text-align: right;\">\n",
       "      <th></th>\n",
       "      <th>user</th>\n",
       "      <th>query_</th>\n",
       "      <th>date</th>\n",
       "      <th>hourofday</th>\n",
       "      <th>dayofweek</th>\n",
       "    </tr>\n",
       "  </thead>\n",
       "  <tbody>\n",
       "    <tr>\n",
       "      <th>0</th>\n",
       "      <td>s324240</td>\n",
       "      <td>[&lt;S&gt;, ', h, t, t, p, &lt;/S&gt;]</td>\n",
       "      <td>2006-04-29 05:42:58</td>\n",
       "      <td>5</td>\n",
       "      <td>5</td>\n",
       "    </tr>\n",
       "    <tr>\n",
       "      <th>1</th>\n",
       "      <td>s19588</td>\n",
       "      <td>[&lt;S&gt;, ., &lt;/S&gt;]</td>\n",
       "      <td>2006-03-31 19:11:36</td>\n",
       "      <td>19</td>\n",
       "      <td>4</td>\n",
       "    </tr>\n",
       "    <tr>\n",
       "      <th>2</th>\n",
       "      <td>s74891</td>\n",
       "      <td>[&lt;S&gt;, ., c, i, t, y, s, e, a, r, c, h, ., c, o...</td>\n",
       "      <td>2006-04-22 20:12:07</td>\n",
       "      <td>20</td>\n",
       "      <td>5</td>\n",
       "    </tr>\n",
       "    <tr>\n",
       "      <th>3</th>\n",
       "      <td>s2334</td>\n",
       "      <td>[&lt;S&gt;, ., c, o, m, &lt;/S&gt;]</td>\n",
       "      <td>2006-03-14 19:21:27</td>\n",
       "      <td>19</td>\n",
       "      <td>1</td>\n",
       "    </tr>\n",
       "    <tr>\n",
       "      <th>4</th>\n",
       "      <td>s8763</td>\n",
       "      <td>[&lt;S&gt;, ., c, o, m, h, t, t, p, &lt;/S&gt;]</td>\n",
       "      <td>2006-03-07 10:21:23</td>\n",
       "      <td>10</td>\n",
       "      <td>1</td>\n",
       "    </tr>\n",
       "  </tbody>\n",
       "</table>\n",
       "</div>"
      ],
      "text/plain": [
       "      user                                             query_  \\\n",
       "0  s324240                         [<S>, ', h, t, t, p, </S>]   \n",
       "1   s19588                                     [<S>, ., </S>]   \n",
       "2   s74891  [<S>, ., c, i, t, y, s, e, a, r, c, h, ., c, o...   \n",
       "3    s2334                            [<S>, ., c, o, m, </S>]   \n",
       "4    s8763                [<S>, ., c, o, m, h, t, t, p, </S>]   \n",
       "\n",
       "                  date  hourofday  dayofweek  \n",
       "0  2006-04-29 05:42:58          5          5  \n",
       "1  2006-03-31 19:11:36         19          4  \n",
       "2  2006-04-22 20:12:07         20          5  \n",
       "3  2006-03-14 19:21:27         19          1  \n",
       "4  2006-03-07 10:21:23         10          1  "
      ]
     },
     "execution_count": 7,
     "metadata": {},
     "output_type": "execute_result"
    }
   ],
   "source": [
    "df = LoadData(['/s0/ajaech/topqueries.tsv.gz'])\n",
    "dataset = Dataset(df, m.char_vocab, m.user_vocab, max_len=m.params.max_len)\n",
    "    \n",
    "def GetLosses():\n",
    "    dataset.current_idx = 0\n",
    "    rows = []\n",
    "    for i in range(62):\n",
    "        feed_dict = dataset.GetFeedDict(m.model)\n",
    "        feed_dict[m.model.user_ids] *= 0\n",
    "\n",
    "        losses = m.session.run(m.model.per_sentence_loss, feed_dict)\n",
    "        queries = feed_dict[m.model.queries]\n",
    "        batch_lengths = feed_dict[m.model.query_lengths]\n",
    "        for j in range(24):\n",
    "            q_len = batch_lengths[j]\n",
    "            q = ''.join([m.char_vocab[int(c)] for c in queries[j]])\n",
    "            rows.append({'query_': q, 'cost': losses[j]})\n",
    "    return pandas.DataFrame(rows)\n",
    "\n",
    "df.head()"
   ]
  },
  {
   "cell_type": "code",
   "execution_count": 55,
   "metadata": {},
   "outputs": [
    {
     "name": "stdout",
     "output_type": "stream",
     "text": [
      "INFO:tensorflow:Restoring parameters from /s0/ajaech/aolexps/g26/model.bin\n"
     ]
    }
   ],
   "source": [
    "m = DynamicModel(\n",
    "    '/s0/ajaech/aolexps/g26', \n",
    "    learning_rate=0.03,\n",
    "    optimizer=AMSGrad)"
   ]
  },
  {
   "cell_type": "code",
   "execution_count": 63,
   "metadata": {
    "collapsed": true
   },
   "outputs": [],
   "source": [
    "m.session.run(m.reset_user_embed)"
   ]
  },
  {
   "cell_type": "code",
   "execution_count": 57,
   "metadata": {},
   "outputs": [],
   "source": [
    "baseline_losses = GetLosses()"
   ]
  },
  {
   "cell_type": "code",
   "execution_count": 64,
   "metadata": {},
   "outputs": [
    {
     "data": {
      "text/plain": [
       "(0.63681334, 30.0)"
      ]
     },
     "execution_count": 64,
     "metadata": {},
     "output_type": "execute_result"
    }
   ],
   "source": [
    "#m.Train(['<S>'] + list('gucci bracelet') + ['</S>'])\n",
    "#m.Train(['<S>'] + list('prada handbags') + ['</S>'])\n",
    "#m.Train(['<S>'] + list('versace eyewear') + ['</S>'])\n",
    "\n",
    "m.Train(['<S>'] + list('discount flights') + ['</S>'])\n",
    "m.Train(['<S>'] + list('yellowstone vacation packages') + ['</S>'])\n"
   ]
  },
  {
   "cell_type": "code",
   "execution_count": 65,
   "metadata": {
    "collapsed": true
   },
   "outputs": [],
   "source": [
    "test_losses = GetLosses()"
   ]
  },
  {
   "cell_type": "code",
   "execution_count": 66,
   "metadata": {},
   "outputs": [
    {
     "data": {
      "image/png": "[encoded data removed]",
      "text/plain": [
       "<matplotlib.figure.Figure at 0x7f26f3108a90>"
      ]
     },
     "metadata": {},
     "output_type": "display_data"
    }
   ],
   "source": [
    "ratio = test_losses.cost / baseline_losses.cost\n",
    "pyplot.hist(ratio, 30)\n",
    "pyplot.show()"
   ]
  },
  {
   "cell_type": "code",
   "execution_count": 67,
   "metadata": {},
   "outputs": [
    {
     "name": "stdout",
     "output_type": "stream",
     "text": [
      "0.879680154903 <S>jet blue</S>\n",
      "0.888052891653 <S>yahoo games</S>\n",
      "0.890462076044 <S>jetblue</S>\n",
      "0.890700144696 <S>yahoo personals</S>\n",
      "0.891198078731 <S>yahoo maps</S>\n",
      "0.891822309748 <S>yahoo finance</S>\n",
      "0.892341946332 <S>yahoo email</S>\n",
      "0.893838479299 <S>expedia</S>\n",
      "0.894251975267 <S>citizens bank</S>\n",
      "0.894758331429 <S>federal express</S>\n",
      "0.895323902936 <S>hotels</S>\n",
      "0.895332527859 <S>national city bank</S>\n",
      "0.895405223901 <S>cheap tickets</S>\n",
      "0.898045238801 <S>national weather service</S>\n",
      "0.899292405795 <S>national car rental</S>\n",
      "0.899602773803 <S>travelocity</S>\n",
      "0.900522551649 <S>airtran</S>\n",
      "0.901032785327 <S>orbitz</S>\n",
      "0.901489767906 <S>priceline</S>\n",
      "0.901781452639 <S>capital one</S>\n"
     ]
    }
   ],
   "source": [
    "for i in np.argsort(ratio)[:20]:\n",
    "    print ratio[i], ''.join(dataset.df.iloc[i].query_)"
   ]
  },
  {
   "cell_type": "code",
   "execution_count": 68,
   "metadata": {},
   "outputs": [
    {
     "name": "stdout",
     "output_type": "stream",
     "text": [
      "1.09836804014 <S>.myspace.com</S>\n",
      "1.09868957822 <S>www.google.cm</S>\n",
      "1.10328871768 <S>www.goo</S>\n",
      "1.10348163465 <S>myspacecom</S>\n",
      "1.10351473722 <S>www.google.com</S>\n",
      "1.1048180145 <S>www.mysapce.com</S>\n",
      "1.10699107953 <S>googl.com</S>\n",
      "1.10763209414 <S>www.mys</S>\n",
      "1.11249772772 <S>myspace.comhttp</S>\n",
      "1.11265421358 <S>.comhttp</S>\n",
      "1.11429055707 <S>myspace.cm</S>\n",
      "1.11449110375 <S>www.myspace.co</S>\n",
      "1.11544578479 <S>google.co</S>\n",
      "1.12055314865 <S>www.googl.com</S>\n",
      "1.12366336069 <S>mysapce.com</S>\n",
      "1.1242895956 <S>myspace.com</S>\n",
      "1.12738025062 <S>www.google.co</S>\n",
      "1.12891379654 <S>my</S>\n",
      "1.13021235457 <S>myspace.co</S>\n",
      "1.13465349596 <S>mys</S>\n"
     ]
    }
   ],
   "source": [
    "for i in np.argsort(ratio)[-20:]:\n",
    "    print ratio[i], ''.join(dataset.df.iloc[i].query_)"
   ]
  },
  {
   "cell_type": "code",
   "execution_count": null,
   "metadata": {
    "collapsed": true
   },
   "outputs": [],
   "source": []
  },
  {
   "cell_type": "code",
   "execution_count": 368,
   "metadata": {},
   "outputs": [],
   "source": [
    "df = pandas.read_csv('/g/ssli/data/LowResourceLM/aol/queries01.train.txt.gz',\n",
    "                     compression='gzip', header=None, sep='\\t')\n",
    "df.columns = ['user', 'query_', 'time']\n",
    "top_queries = set(df.query_.value_counts()[1:1501].index.values)\n",
    "\n",
    "df['indicator'] = df.query_.isin(top_queries)\n",
    "\n",
    "subset = df[df.indicator].groupby('query_').agg('first')\n",
    "del subset['indicator']\n",
    "subset.reset_index()[['user', 'query_', 'time']].to_csv(\n",
    "    '/s0/ajaech/topqueries.tsv.gz', compression='gzip', sep='\\t', \n",
    "    header=None, index=None)"
   ]
  }
 ],
 "metadata": {
  "kernelspec": {
   "display_name": "Python 2",
   "language": "python",
   "name": "python2"
  },
  "language_info": {
   "codemirror_mode": {
    "name": "ipython",
    "version": 2
   },
   "file_extension": ".py",
   "mimetype": "text/x-python",
   "name": "python",
   "nbconvert_exporter": "python",
   "pygments_lexer": "ipython2",
   "version": "2.7.10"
  }
 },
 "nbformat": 4,
 "nbformat_minor": 2
}
